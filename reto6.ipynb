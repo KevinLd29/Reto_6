{
 "cells": [
  {
   "cell_type": "code",
   "execution_count": null,
   "metadata": {},
   "outputs": [],
   "source": [
    "import math\n",
    "# Tronco de cono\n",
    "def volumenTroncoConico(r1, r2, h):\n",
    "    return (math.pi * h * (r1**2 + r2**2 + r1*r2)) / 3\n",
    "\n",
    "def areaTroncoConico(r1, r2, h):\n",
    "    return math.pi * (r1 + r2) * math.sqrt((r2 - r1)**2 + h**2) + math.pi*r1**2 + math.pi*r2^2\n"
   ]
  },
  {
   "cell_type": "code",
   "execution_count": null,
   "metadata": {},
   "outputs": [],
   "source": [
    "import math\n",
    "# Círculo\n",
    "def areaCirculo(r):\n",
    "    return math.pi * r**2\n",
    "\n",
    "def perimetroCirculo(r):\n",
    "    return 2 * math.pi * r\n"
   ]
  },
  {
   "cell_type": "code",
   "execution_count": null,
   "metadata": {},
   "outputs": [],
   "source": [
    "import math\n",
    "# Función de carne de aves\n",
    "def cantidadCarne(N, M, K):\n",
    "    return N*6 + M*7 + K\n"
   ]
  },
  {
   "cell_type": "code",
   "execution_count": null,
   "metadata": {},
   "outputs": [],
   "source": [
    "import math\n",
    "# Vueltas de la compra\n",
    "def vueltas(P, M, H, B):\n",
    "    total = P*300 + M*3300 + H*350\n",
    "    return B - total"
   ]
  },
  {
   "cell_type": "code",
   "execution_count": 1,
   "metadata": {},
   "outputs": [],
   "source": [
    "import math\n",
    "\n",
    "# Valor de un préstamo\n",
    "def prestamo(C, i, n):\n",
    "    return C * ((1 + i)**n)\n"
   ]
  },
  {
   "cell_type": "code",
   "execution_count": null,
   "metadata": {},
   "outputs": [],
   "source": [
    "import math\n",
    "# Número total de contagiados\n",
    "def contagiados(C, D):\n",
    "    return C * (2**D)\n"
   ]
  },
  {
   "cell_type": "code",
   "execution_count": null,
   "metadata": {},
   "outputs": [],
   "source": [
    "def promedio(nums):\n",
    "    return sum(nums) / len(nums)\n",
    "\n",
    "def mediana(nums):\n",
    "    nums.sort()\n",
    "    if len(nums) % 2 == 0:\n",
    "        return (nums[len(nums)//2 - 1] + nums[len(nums)//2]) / 2\n",
    "    else:\n",
    "        return nums[len(nums)//2]\n",
    "\n",
    "def promedioMultiplicativo(nums):\n",
    "    prod = 1\n",
    "    for n in nums:\n",
    "        prod *= n\n",
    "    return prod**(1/len(nums))\n",
    "\n",
    "def ordenarAsc(nums):\n",
    "    return sorted(nums)\n",
    "\n",
    "def ordenarDesc(nums):\n",
    "    return sorted(nums, reverse=True)\n",
    "\n",
    "def potencia(nums):\n",
    "    return max(nums)**min(nums)\n",
    "\n",
    "def raizCubica(nums):\n",
    "    return min(nums)**(1/3)\n"
   ]
  },
  {
   "cell_type": "code",
   "execution_count": null,
   "metadata": {},
   "outputs": [],
   "source": [
    "from funciones import *\n",
    "\n",
    "# Aquí va el código que pide los números al usuario, y usa las funciones importadas.\n"
   ]
  }
 ],
 "metadata": {
  "kernelspec": {
   "display_name": "Python 3",
   "language": "python",
   "name": "python3"
  },
  "language_info": {
   "codemirror_mode": {
    "name": "ipython",
    "version": 3
   },
   "file_extension": ".py",
   "mimetype": "text/x-python",
   "name": "python",
   "nbconvert_exporter": "python",
   "pygments_lexer": "ipython3",
   "version": "3.11.6"
  }
 },
 "nbformat": 4,
 "nbformat_minor": 2
}
